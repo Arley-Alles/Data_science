{
 "cells": [
  {
   "cell_type": "markdown",
   "metadata": {},
   "source": [
    "## Machine learning (Naive Bayes)\n",
    "\n",
    "### Para este exemplo, está sendo usado o dataset \"ADULT DATA SET\" que pode ser encontrado no UCI:\n",
    "\n",
    "https://archive.ics.uci.edu/ml/datasets/Adult"
   ]
  },
  {
   "cell_type": "markdown",
   "metadata": {},
   "source": [
    "### Passo 1: Importar o dataset"
   ]
  },
  {
   "cell_type": "code",
   "execution_count": 1,
   "metadata": {},
   "outputs": [],
   "source": [
    "import pandas as pd"
   ]
  },
  {
   "cell_type": "code",
   "execution_count": 2,
   "metadata": {},
   "outputs": [
    {
     "name": "stdout",
     "output_type": "stream",
     "text": [
      "########################################## DATASET ##############################################\n",
      "\n",
      "   AGE          WORKCLASS  FNLWGT   EDUCATION  EDUCATION_NUM  \\\n",
      "0   39          State-gov   77516   Bachelors             13   \n",
      "1   50   Self-emp-not-inc   83311   Bachelors             13   \n",
      "2   38            Private  215646     HS-grad              9   \n",
      "3   53            Private  234721        11th              7   \n",
      "4   28            Private  338409   Bachelors             13   \n",
      "\n",
      "        MARITAL_STATUS          OCCUPATION    RELATIONSHIP    RACE      SEX  \\\n",
      "0        Never-married        Adm-clerical   Not-in-family   White     Male   \n",
      "1   Married-civ-spouse     Exec-managerial         Husband   White     Male   \n",
      "2             Divorced   Handlers-cleaners   Not-in-family   White     Male   \n",
      "3   Married-civ-spouse   Handlers-cleaners         Husband   Black     Male   \n",
      "4   Married-civ-spouse      Prof-specialty            Wife   Black   Female   \n",
      "\n",
      "   CAPITAL_GAIN  CAPITAL_LOSS  HOURS_PER_WEEK  NATIVE_COUNTRY  TARGET  \n",
      "0          2174             0              40   United-States   <=50K  \n",
      "1             0             0              13   United-States   <=50K  \n",
      "2             0             0              40   United-States   <=50K  \n",
      "3             0             0              40   United-States   <=50K  \n",
      "4             0             0              40            Cuba   <=50K  \n",
      "\n",
      "\n",
      "##################################### ASPECTOS GERAIS ##########################################\n",
      "\n",
      "<class 'pandas.core.frame.DataFrame'>\n",
      "RangeIndex: 32561 entries, 0 to 32560\n",
      "Data columns (total 15 columns):\n",
      " #   Column          Non-Null Count  Dtype \n",
      "---  ------          --------------  ----- \n",
      " 0   AGE             32561 non-null  int64 \n",
      " 1   WORKCLASS       32561 non-null  object\n",
      " 2   FNLWGT          32561 non-null  int64 \n",
      " 3   EDUCATION       32561 non-null  object\n",
      " 4   EDUCATION_NUM   32561 non-null  int64 \n",
      " 5   MARITAL_STATUS  32561 non-null  object\n",
      " 6   OCCUPATION      32561 non-null  object\n",
      " 7   RELATIONSHIP    32561 non-null  object\n",
      " 8   RACE            32561 non-null  object\n",
      " 9   SEX             32561 non-null  object\n",
      " 10  CAPITAL_GAIN    32561 non-null  int64 \n",
      " 11  CAPITAL_LOSS    32561 non-null  int64 \n",
      " 12  HOURS_PER_WEEK  32561 non-null  int64 \n",
      " 13  NATIVE_COUNTRY  32561 non-null  object\n",
      " 14  TARGET          32561 non-null  object\n",
      "dtypes: int64(6), object(9)\n",
      "memory usage: 3.7+ MB\n",
      "None\n"
     ]
    }
   ],
   "source": [
    "names = ['AGE', 'WORKCLASS', 'FNLWGT', 'EDUCATION', 'EDUCATION_NUM', 'MARITAL_STATUS', \n",
    "         'OCCUPATION', 'RELATIONSHIP', 'RACE', 'SEX', 'CAPITAL_GAIN', 'CAPITAL_LOSS', \n",
    "         'HOURS_PER_WEEK', 'NATIVE_COUNTRY', 'TARGET']\n",
    "\n",
    "dataset = pd.read_csv(\"adult.data\", names = names)\n",
    "\n",
    "print(\"########################################## DATASET ##############################################\")\n",
    "print(\"\")\n",
    "print(dataset.head())\n",
    "\n",
    "print(\"\")\n",
    "print(\"\")\n",
    "print(\"##################################### ASPECTOS GERAIS ##########################################\")\n",
    "print(\"\")\n",
    "print(dataset.info())\n"
   ]
  },
  {
   "cell_type": "markdown",
   "metadata": {},
   "source": [
    "### Passo 2.1: Pré-processamento dos dados: Quantidade de classificações em cada coluna"
   ]
  },
  {
   "cell_type": "code",
   "execution_count": 3,
   "metadata": {},
   "outputs": [
    {
     "name": "stdout",
     "output_type": "stream",
     "text": [
      "\n",
      "WORKCLASS\n",
      " ?                    1836\n",
      " Federal-gov           960\n",
      " Local-gov            2093\n",
      " Never-worked            7\n",
      " Private             22696\n",
      " Self-emp-inc         1116\n",
      " Self-emp-not-inc     2541\n",
      " State-gov            1298\n",
      " Without-pay            14\n",
      "dtype: int64\n",
      "\n",
      "EDUCATION\n",
      " 10th              933\n",
      " 11th             1175\n",
      " 12th              433\n",
      " 1st-4th           168\n",
      " 5th-6th           333\n",
      " 7th-8th           646\n",
      " 9th               514\n",
      " Assoc-acdm       1067\n",
      " Assoc-voc        1382\n",
      " Bachelors        5355\n",
      " Doctorate         413\n",
      " HS-grad         10501\n",
      " Masters          1723\n",
      " Preschool          51\n",
      " Prof-school       576\n",
      " Some-college     7291\n",
      "dtype: int64\n",
      "\n",
      "MARITAL_STATUS\n",
      " Divorced                  4443\n",
      " Married-AF-spouse           23\n",
      " Married-civ-spouse       14976\n",
      " Married-spouse-absent      418\n",
      " Never-married            10683\n",
      " Separated                 1025\n",
      " Widowed                    993\n",
      "dtype: int64\n",
      "\n",
      "OCCUPATION\n",
      " ?                    1843\n",
      " Adm-clerical         3770\n",
      " Armed-Forces            9\n",
      " Craft-repair         4099\n",
      " Exec-managerial      4066\n",
      " Farming-fishing       994\n",
      " Handlers-cleaners    1370\n",
      " Machine-op-inspct    2002\n",
      " Other-service        3295\n",
      " Priv-house-serv       149\n",
      " Prof-specialty       4140\n",
      " Protective-serv       649\n",
      " Sales                3650\n",
      " Tech-support          928\n",
      " Transport-moving     1597\n",
      "dtype: int64\n",
      "\n",
      "RELATIONSHIP\n",
      " Husband           13193\n",
      " Not-in-family      8305\n",
      " Other-relative      981\n",
      " Own-child          5068\n",
      " Unmarried          3446\n",
      " Wife               1568\n",
      "dtype: int64\n",
      "\n",
      "RACE\n",
      " Amer-Indian-Eskimo      311\n",
      " Asian-Pac-Islander     1039\n",
      " Black                  3124\n",
      " Other                   271\n",
      " White                 27816\n",
      "dtype: int64\n",
      "\n",
      "SEX\n",
      " Female    10771\n",
      " Male      21790\n",
      "dtype: int64\n",
      "\n",
      "NATIVE_COUNTRY\n",
      " ?                               583\n",
      " Cambodia                         19\n",
      " Canada                          121\n",
      " China                            75\n",
      " Columbia                         59\n",
      " Cuba                             95\n",
      " Dominican-Republic               70\n",
      " Ecuador                          28\n",
      " El-Salvador                     106\n",
      " England                          90\n",
      " France                           29\n",
      " Germany                         137\n",
      " Greece                           29\n",
      " Guatemala                        64\n",
      " Haiti                            44\n",
      " Holand-Netherlands                1\n",
      " Honduras                         13\n",
      " Hong                             20\n",
      " Hungary                          13\n",
      " India                           100\n",
      " Iran                             43\n",
      " Ireland                          24\n",
      " Italy                            73\n",
      " Jamaica                          81\n",
      " Japan                            62\n",
      " Laos                             18\n",
      " Mexico                          643\n",
      " Nicaragua                        34\n",
      " Outlying-US(Guam-USVI-etc)       14\n",
      " Peru                             31\n",
      " Philippines                     198\n",
      " Poland                           60\n",
      " Portugal                         37\n",
      " Puerto-Rico                     114\n",
      " Scotland                         12\n",
      " South                            80\n",
      " Taiwan                           51\n",
      " Thailand                         18\n",
      " Trinadad&Tobago                  19\n",
      " United-States                 29170\n",
      " Vietnam                          67\n",
      " Yugoslavia                       16\n",
      "dtype: int64\n",
      "\n",
      "TARGET\n",
      " <=50K    24720\n",
      " >50K      7841\n",
      "dtype: int64\n"
     ]
    }
   ],
   "source": [
    "for i, columns in enumerate(names):\n",
    "    \n",
    "    types = dataset[columns].dtype\n",
    "    \n",
    "    if (types == object):\n",
    "        \n",
    "        count = dataset.pivot_table(index=[columns], aggfunc='size')\n",
    "        \n",
    "        print(\"\")\n",
    "        print(count)"
   ]
  },
  {
   "cell_type": "markdown",
   "metadata": {},
   "source": [
    "### Passo 2.2: Pré-processamento dos dados: removendo espaços em branco"
   ]
  },
  {
   "cell_type": "code",
   "execution_count": 4,
   "metadata": {},
   "outputs": [],
   "source": [
    "dataset.columns = dataset.columns.str.replace(' ', '')"
   ]
  },
  {
   "cell_type": "markdown",
   "metadata": {},
   "source": [
    "### Passo 2.3: Pré-processamento dos dados: removendo classicações entituladas com ?"
   ]
  },
  {
   "cell_type": "code",
   "execution_count": 5,
   "metadata": {},
   "outputs": [
    {
     "name": "stdout",
     "output_type": "stream",
     "text": [
      "<class 'pandas.core.frame.DataFrame'>\n",
      "Int64Index: 32561 entries, 0 to 32560\n",
      "Data columns (total 15 columns):\n",
      " #   Column          Non-Null Count  Dtype \n",
      "---  ------          --------------  ----- \n",
      " 0   AGE             32561 non-null  int64 \n",
      " 1   WORKCLASS       32561 non-null  object\n",
      " 2   FNLWGT          32561 non-null  int64 \n",
      " 3   EDUCATION       32561 non-null  object\n",
      " 4   EDUCATION_NUM   32561 non-null  int64 \n",
      " 5   MARITAL_STATUS  32561 non-null  object\n",
      " 6   OCCUPATION      32561 non-null  object\n",
      " 7   RELATIONSHIP    32561 non-null  object\n",
      " 8   RACE            32561 non-null  object\n",
      " 9   SEX             32561 non-null  object\n",
      " 10  CAPITAL_GAIN    32561 non-null  int64 \n",
      " 11  CAPITAL_LOSS    32561 non-null  int64 \n",
      " 12  HOURS_PER_WEEK  32561 non-null  int64 \n",
      " 13  NATIVE_COUNTRY  32561 non-null  object\n",
      " 14  TARGET          32561 non-null  object\n",
      "dtypes: int64(6), object(9)\n",
      "memory usage: 4.0+ MB\n",
      "None\n"
     ]
    }
   ],
   "source": [
    "for i, columns in enumerate(names):\n",
    "    \n",
    "    types = dataset[columns].dtype\n",
    "    \n",
    "    if (types == object):\n",
    "        \n",
    "        dataset2 = dataset[(dataset[columns] != \"?\")]\n",
    "        dataset = dataset2\n",
    "        \n",
    "print(dataset2.info())"
   ]
  },
  {
   "cell_type": "markdown",
   "metadata": {},
   "source": [
    "### Passo 2.4: Pré-processamento dos dados: Criando variáveis dummy"
   ]
  },
  {
   "cell_type": "code",
   "execution_count": 6,
   "metadata": {},
   "outputs": [
    {
     "name": "stdout",
     "output_type": "stream",
     "text": [
      "   AGE  WORKCLASS  FNLWGT  EDUCATION  EDUCATION_NUM  MARITAL_STATUS  \\\n",
      "0   39          0   77516          0             13               0   \n",
      "1   50          1   83311          0             13               1   \n",
      "2   38          2  215646          1              9               2   \n",
      "3   53          2  234721          2              7               1   \n",
      "4   28          2  338409          0             13               1   \n",
      "\n",
      "   OCCUPATION  RELATIONSHIP  RACE  SEX  CAPITAL_GAIN  CAPITAL_LOSS  \\\n",
      "0           0             0     0    0          2174             0   \n",
      "1           1             1     0    0             0             0   \n",
      "2           2             0     0    0             0             0   \n",
      "3           2             1     1    0             0             0   \n",
      "4           3             2     1    1             0             0   \n",
      "\n",
      "   HOURS_PER_WEEK  NATIVE_COUNTRY  TARGET  \n",
      "0              40               0       0  \n",
      "1              13               0       0  \n",
      "2              40               0       0  \n",
      "3              40               0       0  \n",
      "4              40               1       0  \n"
     ]
    }
   ],
   "source": [
    "classificacoes = []\n",
    "\n",
    "dataset3 = dataset2 #O dataset3 contêm os valores categóricos. O dataset2 irá conter as variáveis do tipo dummy\n",
    "\n",
    "for columns in names:\n",
    "    \n",
    "    types = dataset2[columns].dtype\n",
    "    \n",
    "    if (types == object):\n",
    "        \n",
    "        categorias = pd.unique(dataset2[columns]) #Identificando as categorias únicas de cada coluna\n",
    "        classificacoes.append(sorted(categorias)) #Armazenando as categorias em ordem alfabética (Caso queira olhar)\n",
    "        dummy = []\n",
    "        \n",
    "        for i, categoria in enumerate(categorias):\n",
    "            \n",
    "            dummy.append(i)\n",
    "            \n",
    "        dataset2[columns] = dataset2[columns].replace(categorias, dummy)\n",
    "        \n",
    "print(dataset2.head())            "
   ]
  },
  {
   "cell_type": "markdown",
   "metadata": {},
   "source": [
    "### Passo 3: Ajuste do modelo de classificação"
   ]
  },
  {
   "cell_type": "code",
   "execution_count": 7,
   "metadata": {},
   "outputs": [
    {
     "name": "stderr",
     "output_type": "stream",
     "text": [
      "/home/arley/snap/jupyter/common/lib/python3.7/site-packages/joblib/_multiprocessing_helpers.py:45: UserWarning: [Errno 13] Permission denied.  joblib will operate in serial mode\n",
      "  warnings.warn('%s.  joblib will operate in serial mode' % (e,))\n"
     ]
    },
    {
     "name": "stdout",
     "output_type": "stream",
     "text": [
      "Acurácia para os dados de treino:  0.8035714285714286\n",
      "###################### Matriz de confusão para os dados de treino #########################\n",
      "[[16423   890]\n",
      " [ 3587  1892]]\n",
      "\n",
      "Acurácia para os dados de teste:  0.8085781553894974\n",
      "###################### Matriz de confusão para os dados de teste #########################\n",
      "[[7044  363]\n",
      " [1507  855]]\n"
     ]
    }
   ],
   "source": [
    "from sklearn.model_selection import train_test_split\n",
    "from sklearn.naive_bayes import GaussianNB\n",
    "from sklearn.metrics import accuracy_score, confusion_matrix\n",
    "\n",
    "target = dataset2['TARGET']\n",
    "\n",
    "#--------------------Separando dados de treino e teste--------------------------#\n",
    "X_train, X_test, Y_train, Y_test= train_test_split(dataset2.drop(columns=['TARGET', 'FNLWGT']), target,\n",
    "                                                   test_size= 0.3, random_state= 0)\n",
    "\n",
    "#---------------------------- Ajuste do modelo ---------------------------------#\n",
    "gnb = GaussianNB()\n",
    "modelo = gnb.fit(X_train, Y_train)\n",
    "\n",
    "#-------------------- Predições com dados de treino -----------------------------#\n",
    "previsoes_train = modelo.predict(X_train)\n",
    "\n",
    "#-------------------- Predições com dados de teste -----------------------------#\n",
    "previsoes_test = modelo.predict(X_test)\n",
    "\n",
    "#---------------------- Acurácia nos dados de treino ----------------------------#\n",
    "acuracia_train = accuracy_score(Y_train, previsoes_train)\n",
    "\n",
    "#---------------------- Acurácia nos dados de teste ----------------------------#\n",
    "acuracia_test = accuracy_score(Y_test, previsoes_test)\n",
    "\n",
    "#---------------------- Matriz de confusão nos dados de treino ----------------------------#\n",
    "matriz_train = confusion_matrix(Y_train, previsoes_train)\n",
    "\n",
    "#---------------------- Matriz de confusão nos dados de teste ----------------------------#\n",
    "matriz_test = confusion_matrix(Y_test, previsoes_test)\n",
    "\n",
    "\n",
    "print(\"Acurácia para os dados de treino: \", acuracia_train)\n",
    "print(\"###################### Matriz de confusão para os dados de treino #########################\")\n",
    "print(matriz_train)\n",
    "\n",
    "print(\"\")\n",
    "print(\"Acurácia para os dados de teste: \", acuracia_test)\n",
    "print(\"###################### Matriz de confusão para os dados de teste #########################\")\n",
    "print(matriz_test)"
   ]
  },
  {
   "cell_type": "code",
   "execution_count": null,
   "metadata": {},
   "outputs": [],
   "source": []
  }
 ],
 "metadata": {
  "kernelspec": {
   "display_name": "Python 3",
   "language": "python",
   "name": "python3"
  },
  "language_info": {
   "codemirror_mode": {
    "name": "ipython",
    "version": 3
   },
   "file_extension": ".py",
   "mimetype": "text/x-python",
   "name": "python",
   "nbconvert_exporter": "python",
   "pygments_lexer": "ipython3",
   "version": "3.7.3"
  }
 },
 "nbformat": 4,
 "nbformat_minor": 2
}
