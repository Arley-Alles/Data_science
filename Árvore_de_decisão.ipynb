{
 "cells": [
  {
   "cell_type": "markdown",
   "metadata": {},
   "source": [
    "## Machine learning (Árvores de decisão)"
   ]
  },
  {
   "cell_type": "markdown",
   "metadata": {},
   "source": [
    "### Passo 1: Importar o conjunto de dados"
   ]
  },
  {
   "cell_type": "code",
   "execution_count": 1,
   "metadata": {},
   "outputs": [
    {
     "name": "stdout",
     "output_type": "stream",
     "text": [
      "############################### DATASET #################################\n",
      "    AGE  SEX   CP  TRESTBPS   CHOL  FBS  RESTECG  THALACH  EXANG  OLDPEAK  \\\n",
      "0  70.0  1.0  4.0     130.0  322.0  0.0      2.0    109.0    0.0      2.4   \n",
      "1  67.0  0.0  3.0     115.0  564.0  0.0      2.0    160.0    0.0      1.6   \n",
      "2  57.0  1.0  2.0     124.0  261.0  0.0      0.0    141.0    0.0      0.3   \n",
      "3  64.0  1.0  4.0     128.0  263.0  0.0      0.0    105.0    1.0      0.2   \n",
      "4  74.0  0.0  2.0     120.0  269.0  0.0      2.0    121.0    1.0      0.2   \n",
      "\n",
      "   SLOPE   CA  THAL  TARGET  \n",
      "0    2.0  3.0   3.0       2  \n",
      "1    2.0  0.0   7.0       1  \n",
      "2    1.0  0.0   7.0       2  \n",
      "3    2.0  1.0   7.0       1  \n",
      "4    1.0  1.0   3.0       1  \n",
      "\n",
      "############################### ASPECTOS GERAIS #############################\n",
      "<class 'pandas.core.frame.DataFrame'>\n",
      "RangeIndex: 270 entries, 0 to 269\n",
      "Data columns (total 14 columns):\n",
      " #   Column    Non-Null Count  Dtype  \n",
      "---  ------    --------------  -----  \n",
      " 0   AGE       270 non-null    float64\n",
      " 1   SEX       270 non-null    float64\n",
      " 2   CP        270 non-null    float64\n",
      " 3   TRESTBPS  270 non-null    float64\n",
      " 4   CHOL      270 non-null    float64\n",
      " 5   FBS       270 non-null    float64\n",
      " 6   RESTECG   270 non-null    float64\n",
      " 7   THALACH   270 non-null    float64\n",
      " 8   EXANG     270 non-null    float64\n",
      " 9   OLDPEAK   270 non-null    float64\n",
      " 10  SLOPE     270 non-null    float64\n",
      " 11  CA        270 non-null    float64\n",
      " 12  THAL      270 non-null    float64\n",
      " 13  TARGET    270 non-null    int64  \n",
      "dtypes: float64(13), int64(1)\n",
      "memory usage: 29.7 KB\n",
      "None\n"
     ]
    }
   ],
   "source": [
    "import pandas as pd\n",
    "\n",
    "names = [\"AGE\", \"SEX\", \"CP\", \"TRESTBPS\", \"CHOL\", \"FBS\", \"RESTECG\", \n",
    "         \"THALACH\", \"EXANG\", \"OLDPEAK\", \"SLOPE\", \"CA\", \"THAL\", \"TARGET\"]\n",
    "\n",
    "dataset = pd.read_csv(\"heart.dat\", sep =\" \", names = names)\n",
    "\n",
    "print(\"############################### DATASET #################################\")\n",
    "print(dataset.head())\n",
    "\n",
    "print(\"\")\n",
    "print(\"############################### ASPECTOS GERAIS #############################\")\n",
    "print(dataset.info())"
   ]
  },
  {
   "cell_type": "markdown",
   "metadata": {},
   "source": [
    "### Passo 2.1: Pré-processamento de dados: Valores missing em cada coluna"
   ]
  },
  {
   "cell_type": "code",
   "execution_count": 2,
   "metadata": {},
   "outputs": [
    {
     "name": "stdout",
     "output_type": "stream",
     "text": [
      "{'AGE': 0, 'SEX': 0, 'CP': 0, 'TRESTBPS': 0, 'CHOL': 0, 'FBS': 0, 'RESTECG': 0, 'THALACH': 0, 'EXANG': 0, 'OLDPEAK': 0, 'SLOPE': 0, 'CA': 0, 'THAL': 0, 'TARGET': 0}\n"
     ]
    },
    {
     "name": "stderr",
     "output_type": "stream",
     "text": [
      "/home/arley/snap/jupyter/common/lib/python3.7/site-packages/pandas/core/computation/expressions.py:68: FutureWarning: elementwise comparison failed; returning scalar instead, but in the future will perform elementwise comparison\n",
      "  return op(a, b)\n",
      "/home/arley/snap/jupyter/common/lib/python3.7/site-packages/pandas/core/computation/expressions.py:68: FutureWarning: elementwise comparison failed; returning scalar instead, but in the future will perform elementwise comparison\n",
      "  return op(a, b)\n",
      "/home/arley/snap/jupyter/common/lib/python3.7/site-packages/pandas/core/computation/expressions.py:68: FutureWarning: elementwise comparison failed; returning scalar instead, but in the future will perform elementwise comparison\n",
      "  return op(a, b)\n",
      "/home/arley/snap/jupyter/common/lib/python3.7/site-packages/pandas/core/computation/expressions.py:68: FutureWarning: elementwise comparison failed; returning scalar instead, but in the future will perform elementwise comparison\n",
      "  return op(a, b)\n",
      "/home/arley/snap/jupyter/common/lib/python3.7/site-packages/pandas/core/computation/expressions.py:68: FutureWarning: elementwise comparison failed; returning scalar instead, but in the future will perform elementwise comparison\n",
      "  return op(a, b)\n",
      "/home/arley/snap/jupyter/common/lib/python3.7/site-packages/pandas/core/computation/expressions.py:68: FutureWarning: elementwise comparison failed; returning scalar instead, but in the future will perform elementwise comparison\n",
      "  return op(a, b)\n",
      "/home/arley/snap/jupyter/common/lib/python3.7/site-packages/pandas/core/computation/expressions.py:68: FutureWarning: elementwise comparison failed; returning scalar instead, but in the future will perform elementwise comparison\n",
      "  return op(a, b)\n",
      "/home/arley/snap/jupyter/common/lib/python3.7/site-packages/pandas/core/computation/expressions.py:68: FutureWarning: elementwise comparison failed; returning scalar instead, but in the future will perform elementwise comparison\n",
      "  return op(a, b)\n",
      "/home/arley/snap/jupyter/common/lib/python3.7/site-packages/pandas/core/computation/expressions.py:68: FutureWarning: elementwise comparison failed; returning scalar instead, but in the future will perform elementwise comparison\n",
      "  return op(a, b)\n",
      "/home/arley/snap/jupyter/common/lib/python3.7/site-packages/pandas/core/computation/expressions.py:68: FutureWarning: elementwise comparison failed; returning scalar instead, but in the future will perform elementwise comparison\n",
      "  return op(a, b)\n",
      "/home/arley/snap/jupyter/common/lib/python3.7/site-packages/pandas/core/computation/expressions.py:68: FutureWarning: elementwise comparison failed; returning scalar instead, but in the future will perform elementwise comparison\n",
      "  return op(a, b)\n",
      "/home/arley/snap/jupyter/common/lib/python3.7/site-packages/pandas/core/computation/expressions.py:68: FutureWarning: elementwise comparison failed; returning scalar instead, but in the future will perform elementwise comparison\n",
      "  return op(a, b)\n",
      "/home/arley/snap/jupyter/common/lib/python3.7/site-packages/pandas/core/computation/expressions.py:68: FutureWarning: elementwise comparison failed; returning scalar instead, but in the future will perform elementwise comparison\n",
      "  return op(a, b)\n",
      "/home/arley/snap/jupyter/common/lib/python3.7/site-packages/pandas/core/computation/expressions.py:68: FutureWarning: elementwise comparison failed; returning scalar instead, but in the future will perform elementwise comparison\n",
      "  return op(a, b)\n"
     ]
    }
   ],
   "source": [
    "def NullValues(dataset, names):\n",
    "    \n",
    "    null_count = []\n",
    "    dict_null = {}\n",
    "    \n",
    "    for i, columns in enumerate(names):\n",
    "        \n",
    "        null = dataset[columns][dataset[columns] == \"?\"].count()\n",
    "        null_count.append(null)\n",
    "        dict_null[columns] = null\n",
    "        \n",
    "    return dict_null\n",
    "\n",
    "print(NullValues(dataset, names))"
   ]
  },
  {
   "cell_type": "markdown",
   "metadata": {},
   "source": [
    "### Passo 2.2: Checando balanceamento de classes na variável target"
   ]
  },
  {
   "cell_type": "code",
   "execution_count": 3,
   "metadata": {},
   "outputs": [
    {
     "name": "stderr",
     "output_type": "stream",
     "text": [
      "/snap/jupyter/6/lib/python3.7/site-packages/ipykernel_launcher.py:24: UserWarning: FixedFormatter should only be used together with FixedLocator\n"
     ]
    },
    {
     "data": {
      "image/png": "[encoded data removed]",
      "text/plain": [
       "<Figure size 792x504 with 1 Axes>"
      ]
     },
     "metadata": {
      "needs_background": "light"
     },
     "output_type": "display_data"
    }
   ],
   "source": [
    "import matplotlib.pyplot as plt\n",
    "import numpy as np\n",
    "%matplotlib inline\n",
    "\n",
    "quant = len(dataset['TARGET'])\n",
    "classe_1 = (dataset['TARGET'][dataset[\"TARGET\"] == 1].count())\n",
    "classe_2 = (len(dataset['TARGET']) - classe_1)\n",
    "\n",
    "\n",
    "#---------------------- Parâmetros para construir o gráfico ------------------------#\n",
    "Y = [classe_1/quant, classe_2/quant]\n",
    "X = [1,2]\n",
    "labels = [\"Classe_1\", \"Classe_2\"]\n",
    "width = 0.35 \n",
    "\n",
    "#---------------------------- Construção do gráfico --------------------------------#\n",
    "fig, axe = plt.subplots(1, 1, figsize = (11, 7))\n",
    "axe.bar(X, Y, width)\n",
    "\n",
    "#---------------------------- Ajuste do gráfico ------------------------------------#\n",
    "axe.set_title(\"Frequência das classes (Target)\", fontsize = 18)\n",
    "axe.set_xticks(X)\n",
    "yticks = np.around(np.arange(0, max(Y), 0.10), 1)\n",
    "axe.set_yticklabels(yticks, fontsize = 16)\n",
    "axe.set_xticklabels(labels, fontsize = 16)\n",
    "plt.show()"
   ]
  },
  {
   "cell_type": "markdown",
   "metadata": {},
   "source": [
    "### Passo 3: Ajuste do modelo de classificação"
   ]
  },
  {
   "cell_type": "code",
   "execution_count": 4,
   "metadata": {},
   "outputs": [
    {
     "name": "stderr",
     "output_type": "stream",
     "text": [
      "/home/arley/snap/jupyter/common/lib/python3.7/site-packages/joblib/_multiprocessing_helpers.py:45: UserWarning: [Errno 13] Permission denied.  joblib will operate in serial mode\n",
      "  warnings.warn('%s.  joblib will operate in serial mode' % (e,))\n"
     ]
    },
    {
     "name": "stdout",
     "output_type": "stream",
     "text": [
      "################################# Melhores hiperparâmetros #############################\n",
      "DecisionTreeClassifier(max_depth=7, max_features=7, min_samples_leaf=7,\n",
      "                       min_samples_split=7)\n",
      "\n",
      "Acurácia para os dados de treino:  83.6 %\n",
      "###################### Matriz de confusão para os dados de treino #########################\n",
      "[[83 17]\n",
      " [14 75]]\n",
      "\n",
      "Acurácia para os dados de teste:  86.42 %\n",
      "###################### Matriz de confusão para os dados de teste #########################\n",
      "[[46  4]\n",
      " [ 7 24]]\n"
     ]
    }
   ],
   "source": [
    "from sklearn.model_selection import GridSearchCV, train_test_split\n",
    "from sklearn.tree import DecisionTreeClassifier\n",
    "from sklearn.metrics import accuracy_score, confusion_matrix\n",
    "\n",
    "\n",
    "#-------------------------------- Dados de treino e de teste ------------------------------------#\n",
    "target = dataset[\"TARGET\"]\n",
    "dataset3 = dataset.drop(columns=[\"TARGET\"])\n",
    "\n",
    "X_train, X_test, Y_train, Y_test = train_test_split(dataset3, target, \n",
    "                                                    test_size= 0.3, random_state= 111)\n",
    "\n",
    "\n",
    "#---------------------------- Ajuste do modelo utilizando gridsearch ----------------------------#\n",
    "\n",
    "modelo = DecisionTreeClassifier()\n",
    "\n",
    "hiperparametros = {'max_depth': [1, 2, 3, 5, 7, 9, 12], \"max_features\": [1, 2, 3, 5, 7, 9], \n",
    "                   \"criterion\": [\"gini\", \"entropy\"], \"min_samples_leaf\": [1, 2, 3, 5, 7, 9],\n",
    "                   \"min_samples_split\": [2, 3 ,5 ,7, 9]}\n",
    "\n",
    "\n",
    "grid_search = GridSearchCV(estimator = modelo, param_grid = hiperparametros).fit(X_train, Y_train)\n",
    "\n",
    "#print(grid_search.cv_results_['mean_test_score'])\n",
    "\n",
    "print(\"################################# Melhores hiperparâmetros #############################\")\n",
    "print(grid_search.best_estimator_)\n",
    "\n",
    "\n",
    "#-------------------- Predições com dados de treino -----------------------------#\n",
    "previsoes_train = grid_search.predict(X_train)\n",
    "\n",
    "#-------------------- Predições com dados de teste -----------------------------#\n",
    "previsoes_test = grid_search.predict(X_test)\n",
    "\n",
    "#---------------------- Acurácia nos dados de treino ----------------------------#\n",
    "acuracia_train = accuracy_score(Y_train, previsoes_train)\n",
    "\n",
    "#---------------------- Acurácia nos dados de teste ----------------------------#\n",
    "acuracia_test = accuracy_score(Y_test, previsoes_test)\n",
    "\n",
    "#---------------------- Matriz de confusão nos dados de treino ----------------------------#\n",
    "matriz_train = confusion_matrix(Y_train, previsoes_train)\n",
    "\n",
    "#---------------------- Matriz de confusão nos dados de teste ----------------------------#\n",
    "matriz_test = confusion_matrix(Y_test, previsoes_test)\n",
    "\n",
    "\n",
    "print(\"\")\n",
    "print(\"Acurácia para os dados de treino: \", round(acuracia_train*100, 2), \"%\")\n",
    "print(\"###################### Matriz de confusão para os dados de treino #########################\")\n",
    "print(matriz_train)\n",
    "\n",
    "print(\"\")\n",
    "print(\"Acurácia para os dados de teste: \", round(acuracia_test*100, 2), \"%\")\n",
    "print(\"###################### Matriz de confusão para os dados de teste #########################\")\n",
    "print(matriz_test)\n"
   ]
  },
  {
   "cell_type": "code",
   "execution_count": null,
   "metadata": {},
   "outputs": [],
   "source": []
  }
 ],
 "metadata": {
  "kernelspec": {
   "display_name": "Python 3",
   "language": "python",
   "name": "python3"
  },
  "language_info": {
   "codemirror_mode": {
    "name": "ipython",
    "version": 3
   },
   "file_extension": ".py",
   "mimetype": "text/x-python",
   "name": "python",
   "nbconvert_exporter": "python",
   "pygments_lexer": "ipython3",
   "version": "3.7.3"
  }
 },
 "nbformat": 4,
 "nbformat_minor": 2
}
