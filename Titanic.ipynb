{
 "cells": [
  {
   "cell_type": "markdown",
   "metadata": {},
   "source": [
    "### Step 1: Data set import"
   ]
  },
  {
   "cell_type": "code",
   "execution_count": 1,
   "metadata": {},
   "outputs": [],
   "source": [
    "import pandas as pd\n",
    "import matplotlib.pyplot as plt\n",
    "import seaborn as sns\n",
    "import warnings\n",
    "warnings.simplefilter(action='ignore', category=FutureWarning)"
   ]
  },
  {
   "cell_type": "code",
   "execution_count": 2,
   "metadata": {},
   "outputs": [
    {
     "data": {
      "text/html": [
       "<div>\n",
       "<style scoped>\n",
       "    .dataframe tbody tr th:only-of-type {\n",
       "        vertical-align: middle;\n",
       "    }\n",
       "\n",
       "    .dataframe tbody tr th {\n",
       "        vertical-align: top;\n",
       "    }\n",
       "\n",
       "    .dataframe thead th {\n",
       "        text-align: right;\n",
       "    }\n",
       "</style>\n",
       "<table border=\"1\" class=\"dataframe\">\n",
       "  <thead>\n",
       "    <tr style=\"text-align: right;\">\n",
       "      <th></th>\n",
       "      <th>PassengerId</th>\n",
       "      <th>Survived</th>\n",
       "      <th>Pclass</th>\n",
       "      <th>Name</th>\n",
       "      <th>Sex</th>\n",
       "      <th>Age</th>\n",
       "      <th>SibSp</th>\n",
       "      <th>Parch</th>\n",
       "      <th>Ticket</th>\n",
       "      <th>Fare</th>\n",
       "      <th>Cabin</th>\n",
       "      <th>Embarked</th>\n",
       "    </tr>\n",
       "  </thead>\n",
       "  <tbody>\n",
       "    <tr>\n",
       "      <th>0</th>\n",
       "      <td>1</td>\n",
       "      <td>0</td>\n",
       "      <td>3</td>\n",
       "      <td>Braund, Mr. Owen Harris</td>\n",
       "      <td>male</td>\n",
       "      <td>22.0</td>\n",
       "      <td>1</td>\n",
       "      <td>0</td>\n",
       "      <td>A/5 21171</td>\n",
       "      <td>7.2500</td>\n",
       "      <td>NaN</td>\n",
       "      <td>S</td>\n",
       "    </tr>\n",
       "    <tr>\n",
       "      <th>1</th>\n",
       "      <td>2</td>\n",
       "      <td>1</td>\n",
       "      <td>1</td>\n",
       "      <td>Cumings, Mrs. John Bradley (Florence Briggs Th...</td>\n",
       "      <td>female</td>\n",
       "      <td>38.0</td>\n",
       "      <td>1</td>\n",
       "      <td>0</td>\n",
       "      <td>PC 17599</td>\n",
       "      <td>71.2833</td>\n",
       "      <td>C85</td>\n",
       "      <td>C</td>\n",
       "    </tr>\n",
       "    <tr>\n",
       "      <th>2</th>\n",
       "      <td>3</td>\n",
       "      <td>1</td>\n",
       "      <td>3</td>\n",
       "      <td>Heikkinen, Miss. Laina</td>\n",
       "      <td>female</td>\n",
       "      <td>26.0</td>\n",
       "      <td>0</td>\n",
       "      <td>0</td>\n",
       "      <td>STON/O2. 3101282</td>\n",
       "      <td>7.9250</td>\n",
       "      <td>NaN</td>\n",
       "      <td>S</td>\n",
       "    </tr>\n",
       "    <tr>\n",
       "      <th>3</th>\n",
       "      <td>4</td>\n",
       "      <td>1</td>\n",
       "      <td>1</td>\n",
       "      <td>Futrelle, Mrs. Jacques Heath (Lily May Peel)</td>\n",
       "      <td>female</td>\n",
       "      <td>35.0</td>\n",
       "      <td>1</td>\n",
       "      <td>0</td>\n",
       "      <td>113803</td>\n",
       "      <td>53.1000</td>\n",
       "      <td>C123</td>\n",
       "      <td>S</td>\n",
       "    </tr>\n",
       "    <tr>\n",
       "      <th>4</th>\n",
       "      <td>5</td>\n",
       "      <td>0</td>\n",
       "      <td>3</td>\n",
       "      <td>Allen, Mr. William Henry</td>\n",
       "      <td>male</td>\n",
       "      <td>35.0</td>\n",
       "      <td>0</td>\n",
       "      <td>0</td>\n",
       "      <td>373450</td>\n",
       "      <td>8.0500</td>\n",
       "      <td>NaN</td>\n",
       "      <td>S</td>\n",
       "    </tr>\n",
       "  </tbody>\n",
       "</table>\n",
       "</div>"
      ],
      "text/plain": [
       "   PassengerId  Survived  Pclass  \\\n",
       "0            1         0       3   \n",
       "1            2         1       1   \n",
       "2            3         1       3   \n",
       "3            4         1       1   \n",
       "4            5         0       3   \n",
       "\n",
       "                                                Name     Sex   Age  SibSp  \\\n",
       "0                            Braund, Mr. Owen Harris    male  22.0      1   \n",
       "1  Cumings, Mrs. John Bradley (Florence Briggs Th...  female  38.0      1   \n",
       "2                             Heikkinen, Miss. Laina  female  26.0      0   \n",
       "3       Futrelle, Mrs. Jacques Heath (Lily May Peel)  female  35.0      1   \n",
       "4                           Allen, Mr. William Henry    male  35.0      0   \n",
       "\n",
       "   Parch            Ticket     Fare Cabin Embarked  \n",
       "0      0         A/5 21171   7.2500   NaN        S  \n",
       "1      0          PC 17599  71.2833   C85        C  \n",
       "2      0  STON/O2. 3101282   7.9250   NaN        S  \n",
       "3      0            113803  53.1000  C123        S  \n",
       "4      0            373450   8.0500   NaN        S  "
      ]
     },
     "execution_count": 2,
     "metadata": {},
     "output_type": "execute_result"
    }
   ],
   "source": [
    "df_train = pd.read_csv(\"train.csv\")\n",
    "df_train.head()"
   ]
  },
  {
   "cell_type": "code",
   "execution_count": 3,
   "metadata": {},
   "outputs": [
    {
     "name": "stdout",
     "output_type": "stream",
     "text": [
      "############################## DESCRIPTION OF DATASET (TRAIN) ##############################\n",
      "<class 'pandas.core.frame.DataFrame'>\n",
      "RangeIndex: 891 entries, 0 to 890\n",
      "Data columns (total 12 columns):\n",
      " #   Column       Non-Null Count  Dtype  \n",
      "---  ------       --------------  -----  \n",
      " 0   PassengerId  891 non-null    int64  \n",
      " 1   Survived     891 non-null    int64  \n",
      " 2   Pclass       891 non-null    int64  \n",
      " 3   Name         891 non-null    object \n",
      " 4   Sex          891 non-null    object \n",
      " 5   Age          714 non-null    float64\n",
      " 6   SibSp        891 non-null    int64  \n",
      " 7   Parch        891 non-null    int64  \n",
      " 8   Ticket       891 non-null    object \n",
      " 9   Fare         891 non-null    float64\n",
      " 10  Cabin        204 non-null    object \n",
      " 11  Embarked     889 non-null    object \n",
      "dtypes: float64(2), int64(5), object(5)\n",
      "memory usage: 83.7+ KB\n",
      "None\n"
     ]
    }
   ],
   "source": [
    "print(\"############################## DESCRIPTION OF DATASET (TRAIN) ##############################\")\n",
    "print(df_train.info())"
   ]
  },
  {
   "cell_type": "markdown",
   "metadata": {},
   "source": [
    "### Step 3: Checking age distribution"
   ]
  },
  {
   "cell_type": "code",
   "execution_count": 4,
   "metadata": {},
   "outputs": [
    {
     "data": {
      "text/plain": [
       "<AxesSubplot:xlabel='Age_train', ylabel='Density'>"
      ]
     },
     "execution_count": 4,
     "metadata": {},
     "output_type": "execute_result"
    },
    {
     "data": {
      "image/png": "[encoded data removed]",
      "text/plain": [
       "<Figure size 792x504 with 1 Axes>"
      ]
     },
     "metadata": {
      "needs_background": "light"
     },
     "output_type": "display_data"
    }
   ],
   "source": [
    "plt.figure(figsize = (11,7))\n",
    "sns.distplot(x = df_train[\"Age\"], axlabel = \"Age_train\")"
   ]
  },
  {
   "cell_type": "code",
   "execution_count": 6,
   "metadata": {},
   "outputs": [
    {
     "name": "stdout",
     "output_type": "stream",
     "text": [
      "Mean of age on training training:  29.69911764705882\n",
      "Median of age on training dataset:  28.0\n"
     ]
    }
   ],
   "source": [
    "print(\"Mean of age on training training: \", df_train[\"Age\"].mean())\n",
    "print(\"Median of age on training dataset: \", df_train[\"Age\"].median())"
   ]
  },
  {
   "cell_type": "markdown",
   "metadata": {},
   "source": [
    "### Step 4: Fill missing values of age for the median"
   ]
  },
  {
   "cell_type": "code",
   "execution_count": 7,
   "metadata": {},
   "outputs": [],
   "source": [
    "median_train    = df_train[\"Age\"].median()\n",
    "df_train[\"Age\"] = df_train[\"Age\"].fillna(median_train)     "
   ]
  },
  {
   "cell_type": "markdown",
   "metadata": {},
   "source": [
    "### Step 5: Checking Target proportion"
   ]
  },
  {
   "cell_type": "code",
   "execution_count": 8,
   "metadata": {},
   "outputs": [
    {
     "data": {
      "text/plain": [
       "<AxesSubplot:xlabel='Survived', ylabel='count'>"
      ]
     },
     "execution_count": 8,
     "metadata": {},
     "output_type": "execute_result"
    },
    {
     "data": {
      "image/png": "[encoded data removed]",
      "text/plain": [
       "<Figure size 864x504 with 1 Axes>"
      ]
     },
     "metadata": {
      "needs_background": "light"
     },
     "output_type": "display_data"
    }
   ],
   "source": [
    "plt.figure(figsize = (12, 7))\n",
    "sns.countplot(data = df_train, x = \"Survived\")"
   ]
  },
  {
   "cell_type": "markdown",
   "metadata": {},
   "source": [
    "### Step 5: Proportion of classifications in each classificatory variable "
   ]
  },
  {
   "cell_type": "code",
   "execution_count": 9,
   "metadata": {},
   "outputs": [
    {
     "data": {
      "image/png": "[encoded data removed]",
      "text/plain": [
       "<Figure size 1296x504 with 5 Axes>"
      ]
     },
     "metadata": {
      "needs_background": "light"
     },
     "output_type": "display_data"
    }
   ],
   "source": [
    "class_var = [\"Pclass\", \"Sex\", \"Embarked\", \"SibSp\", \"Parch\"]\n",
    "\n",
    "n = 1\n",
    "m = 5\n",
    "\n",
    "fig, ax = plt.subplots(n, m, figsize = (18, 7))\n",
    "\n",
    "for i, ax in enumerate(fig.axes):\n",
    "    sns.countplot(data = df_train, x = class_var[i], ax = ax)\n"
   ]
  },
  {
   "cell_type": "markdown",
   "metadata": {},
   "source": [
    "### Step 6: Evaluation of possible correlations between independent variables and Target"
   ]
  },
  {
   "cell_type": "code",
   "execution_count": 10,
   "metadata": {},
   "outputs": [
    {
     "data": {
      "image/png": "[encoded data removed]",
      "text/plain": [
       "<Figure size 1296x504 with 5 Axes>"
      ]
     },
     "metadata": {
      "needs_background": "light"
     },
     "output_type": "display_data"
    }
   ],
   "source": [
    "n = 1\n",
    "m = 5\n",
    "\n",
    "fig, ax = plt.subplots(n, m, figsize = (18, 7))\n",
    "hue = [\"Sex\", \"Pclass\", \"Embarked\", \"SibSp\", \"Parch\"]\n",
    "\n",
    "for i, ax in enumerate(fig.axes):\n",
    "    sns.countplot(x = \"Survived\", hue = hue[i], data = df_train, ax = ax)"
   ]
  },
  {
   "cell_type": "code",
   "execution_count": 11,
   "metadata": {},
   "outputs": [
    {
     "data": {
      "image/png": "[encoded data removed]",
      "text/plain": [
       "<Figure size 1080x504 with 2 Axes>"
      ]
     },
     "metadata": {
      "needs_background": "light"
     },
     "output_type": "display_data"
    }
   ],
   "source": [
    "fig, ax = plt.subplots(1, 2, figsize = (15, 7))\n",
    "columns = [\"Age\", \"Fare\"]\n",
    "\n",
    "for i, ax in enumerate(fig.axes):\n",
    "    sns.boxplot(x = \"Survived\", y = columns[i], data = df_train, ax = ax)"
   ]
  },
  {
   "cell_type": "markdown",
   "metadata": {},
   "source": [
    "The box plot for the variable age reveals a weak correlation with target "
   ]
  },
  {
   "cell_type": "markdown",
   "metadata": {},
   "source": [
    "### Step 7: Evaluation of possible correlations among independent variables"
   ]
  },
  {
   "cell_type": "code",
   "execution_count": 12,
   "metadata": {},
   "outputs": [
    {
     "data": {
      "text/plain": [
       "<AxesSubplot:xlabel='Pclass', ylabel='Fare'>"
      ]
     },
     "execution_count": 12,
     "metadata": {},
     "output_type": "execute_result"
    },
    {
     "data": {
      "image/png": "[encoded data removed]",
      "text/plain": [
       "<Figure size 1080x504 with 1 Axes>"
      ]
     },
     "metadata": {
      "needs_background": "light"
     },
     "output_type": "display_data"
    }
   ],
   "source": [
    "plt.figure(figsize = (15, 7))\n",
    "sns.boxplot(x = \"Pclass\", y = \"Fare\", data = df_train)"
   ]
  },
  {
   "cell_type": "markdown",
   "metadata": {},
   "source": [
    "### Step 8: Machine learning model"
   ]
  },
  {
   "cell_type": "code",
   "execution_count": 13,
   "metadata": {},
   "outputs": [
    {
     "name": "stderr",
     "output_type": "stream",
     "text": [
      "/home/arley/snap/jupyter/common/lib/python3.7/site-packages/joblib/_multiprocessing_helpers.py:45: UserWarning: [Errno 13] Permission denied.  joblib will operate in serial mode\n",
      "  warnings.warn('%s.  joblib will operate in serial mode' % (e,))\n"
     ]
    },
    {
     "name": "stdout",
     "output_type": "stream",
     "text": [
      "Accuracy in train dataset:  0.8523274478330658\n",
      "###################### Confusion Matrix (train) #########################\n",
      "[[353  25]\n",
      " [ 67 178]]\n",
      "\n",
      "Accuracy in test dataset:  0.8395522388059702\n",
      "###################### Confusion Matrix (test) #########################\n",
      "[[157  14]\n",
      " [ 29  68]]\n"
     ]
    }
   ],
   "source": [
    "from sklearn.ensemble import RandomForestClassifier\n",
    "from sklearn.metrics import confusion_matrix, accuracy_score\n",
    "from sklearn.model_selection import train_test_split, GridSearchCV\n",
    "\n",
    "#-------------------------------- Categorical into numerical variable -------------------------------#\n",
    "df_train[\"new_Sex\"] = df_train[\"Sex\"].map({\"female\": 0, \"male\": 1})\n",
    "\n",
    "names = [\"Pclass\", \"new_Sex\", \"Fare\"]\n",
    "\n",
    "#---------------------- Erasing missing values for Embarked ---------------------#\n",
    "new_df = df_train[names]\n",
    "target = df_train[\"Survived\"]\n",
    "\n",
    "\n",
    "#--------------------Split dataset into train and test--------------------------#\n",
    "x_train, x_test, y_train, y_test = train_test_split(new_df, target,\n",
    "                                                   test_size= 0.3, random_state= 111)\n",
    "\n",
    "#------------------------------ Model adjust ------------------------------------#\n",
    "RFC = RandomForestClassifier(n_estimators = 100, max_depth = 5, criterion = \"entropy\",\n",
    "                            random_state = 10)\n",
    "\n",
    "\n",
    "model = RFC.fit(x_train, y_train)\n",
    "\n",
    "\n",
    "#-------------------- Prediction with train dataset -----------------------------#\n",
    "prev_train = model.predict(x_train)\n",
    "\n",
    "#-------------------- Prediction with test dataset -----------------------------#\n",
    "prev_test = model.predict(x_test)\n",
    "\n",
    "#---------------------- Train dataset accuracy ----------------------------#\n",
    "accur_train = accuracy_score(y_train, prev_train)\n",
    "\n",
    "#---------------------- Test dataset accuracy ----------------------------#\n",
    "accur_test = accuracy_score(y_test, prev_test)\n",
    "\n",
    "#---------------------- Train dataset confusion matrix ----------------------------#\n",
    "matrix_train = confusion_matrix(y_train, prev_train)\n",
    "\n",
    "#---------------------- Test dataset confusion matrix ----------------------------#\n",
    "matrix_test = confusion_matrix(y_test, prev_test)\n",
    "\n",
    "\n",
    "print(\"Accuracy in train dataset: \", accur_train)\n",
    "print(\"###################### Confusion Matrix (train) #########################\")\n",
    "print(matrix_train)\n",
    "\n",
    "print(\"\")\n",
    "print(\"Accuracy in test dataset: \", accur_test)\n",
    "print(\"###################### Confusion Matrix (test) #########################\")\n",
    "print(matrix_test)"
   ]
  },
  {
   "cell_type": "markdown",
   "metadata": {},
   "source": [
    "### Step 9: Balancing Target variable"
   ]
  },
  {
   "cell_type": "code",
   "execution_count": 14,
   "metadata": {},
   "outputs": [],
   "source": [
    "from imblearn.over_sampling import SMOTEN"
   ]
  },
  {
   "cell_type": "code",
   "execution_count": 15,
   "metadata": {},
   "outputs": [
    {
     "data": {
      "text/plain": [
       "<AxesSubplot:xlabel='Survived', ylabel='count'>"
      ]
     },
     "execution_count": 15,
     "metadata": {},
     "output_type": "execute_result"
    },
    {
     "data": {
      "image/png": "[encoded data removed]",
      "text/plain": [
       "<Figure size 864x504 with 1 Axes>"
      ]
     },
     "metadata": {
      "needs_background": "light"
     },
     "output_type": "display_data"
    }
   ],
   "source": [
    "oversample = SMOTEN()\n",
    "x, y = oversample.fit_resample(new_df, target)\n",
    "\n",
    "plt.figure(figsize = (12, 7))\n",
    "sns.countplot(x = y)"
   ]
  },
  {
   "cell_type": "markdown",
   "metadata": {},
   "source": [
    "### Step 8: Machine learning model with balacend data train"
   ]
  },
  {
   "cell_type": "code",
   "execution_count": 16,
   "metadata": {},
   "outputs": [
    {
     "name": "stdout",
     "output_type": "stream",
     "text": [
      "Accuracy in train dataset:  0.9010416666666666\n",
      "###################### Confusion Matrix (train) #########################\n",
      "[[356  32]\n",
      " [ 44 336]]\n",
      "\n",
      "Accuracy in test dataset:  0.8757575757575757\n",
      "###################### Confusion Matrix (test) #########################\n",
      "[[141  20]\n",
      " [ 21 148]]\n"
     ]
    }
   ],
   "source": [
    "#---------------------- Erasing missing values for Embarked ---------------------#\n",
    "new_df = x\n",
    "target = y\n",
    "\n",
    "\n",
    "#--------------------Separando dados de treino e teste--------------------------#\n",
    "x_train, x_test, y_train, y_test = train_test_split(new_df, target,\n",
    "                                                   test_size= 0.3, random_state= 111)\n",
    "\n",
    "#------------------------------ Model adjust ------------------------------------#\n",
    "RFC = RandomForestClassifier(criterion = \"entropy\", \n",
    "                             random_state = 0)\n",
    "\n",
    "model = RFC.fit(x_train, y_train)\n",
    "\n",
    "\n",
    "#-------------------- Prediction with train dataset -----------------------------#\n",
    "prev_train = model.predict(x_train)\n",
    "\n",
    "#-------------------- Prediction with test dataset -----------------------------#\n",
    "prev_test = model.predict(x_test)\n",
    "\n",
    "#---------------------- Train dataset accuracy ----------------------------#\n",
    "accur_train = accuracy_score(y_train, prev_train)\n",
    "\n",
    "#---------------------- Test dataset accuracy ----------------------------#\n",
    "accur_test = accuracy_score(y_test, prev_test)\n",
    "\n",
    "#---------------------- Train dataset confusion matrix ----------------------------#\n",
    "matrix_train = confusion_matrix(y_train, prev_train)\n",
    "\n",
    "#---------------------- Test dataset confusion matrix ----------------------------#\n",
    "matrix_test = confusion_matrix(y_test, prev_test)\n",
    "\n",
    "\n",
    "print(\"Accuracy in train dataset: \", accur_train)\n",
    "print(\"###################### Confusion Matrix (train) #########################\")\n",
    "print(matrix_train)\n",
    "\n",
    "print(\"\")\n",
    "print(\"Accuracy in test dataset: \", accur_test)\n",
    "print(\"###################### Confusion Matrix (test) #########################\")\n",
    "print(matrix_test)"
   ]
  },
  {
   "cell_type": "code",
   "execution_count": null,
   "metadata": {},
   "outputs": [],
   "source": []
  }
 ],
 "metadata": {
  "kernelspec": {
   "display_name": "Python 3",
   "language": "python",
   "name": "python3"
  },
  "language_info": {
   "codemirror_mode": {
    "name": "ipython",
    "version": 3
   },
   "file_extension": ".py",
   "mimetype": "text/x-python",
   "name": "python",
   "nbconvert_exporter": "python",
   "pygments_lexer": "ipython3",
   "version": "3.7.3"
  }
 },
 "nbformat": 4,
 "nbformat_minor": 2
}
